{
 "cells": [
  {
   "cell_type": "markdown",
   "id": "25d7736c-ba17-4aff-b6bb-66eba20fbf4e",
   "metadata": {},
   "source": [
    "# Lab | Error Handling"
   ]
  },
  {
   "cell_type": "markdown",
   "id": "bc99b386-7508-47a0-bcdb-d969deaf6c8b",
   "metadata": {},
   "source": [
    "## Exercise: Error Handling for Managing Customer Orders\n",
    "\n",
    "The implementation of your code for managing customer orders assumes that the user will always enter a valid input. \n",
    "\n",
    "For example, we could modify the `initialize_inventory` function to include error handling.\n",
    "   - If the user enters an invalid quantity (e.g., a negative value or a non-numeric value), display an error message and ask them to re-enter the quantity for that product.\n",
    "   - Use a try-except block to handle the error and continue prompting the user until a valid quantity is entered.\n",
    "\n",
    "```python\n",
    "# Step 1: Define the function for initializing the inventory with error handling\n",
    "def initialize_inventory(products):\n",
    "    inventory = {}\n",
    "    for product in products:\n",
    "        valid_quantity = False\n",
    "        while not valid_quantity:\n",
    "            try:\n",
    "                quantity = int(input(f\"Enter the quantity of {product}s available: \"))\n",
    "                if quantity < 0:\n",
    "                    raise ValueError(\"Invalid quantity! Please enter a non-negative value.\")\n",
    "                valid_quantity = True\n",
    "            except ValueError as error:\n",
    "                print(f\"Error: {error}\")\n",
    "        inventory[product] = quantity\n",
    "    return inventory\n",
    "\n",
    "# Or, in another way:\n",
    "\n",
    "def initialize_inventory(products):\n",
    "    inventory = {}\n",
    "    for product in products:\n",
    "        valid_input = False\n",
    "        while not valid_input:\n",
    "            try:\n",
    "                quantity = int(input(f\"Enter the quantity of {product}s available: \"))\n",
    "                if quantity >= 0:\n",
    "                    inventory[product] = quantity\n",
    "                    valid_input = True\n",
    "                else:\n",
    "                    print(\"Quantity cannot be negative. Please enter a valid quantity.\")\n",
    "            except ValueError:\n",
    "                print(\"Invalid input. Please enter a valid quantity.\")\n",
    "    return inventory\n",
    "```\n",
    "\n",
    "Let's enhance your code by implementing error handling to handle invalid inputs.\n",
    "\n",
    "Follow the steps below to complete the exercise:\n",
    "\n",
    "2. Modify the `calculate_total_price` function to include error handling.\n",
    "   - If the user enters an invalid price (e.g., a negative value or a non-numeric value), display an error message and ask them to re-enter the price for that product.\n",
    "   - Use a try-except block to handle the error and continue prompting the user until a valid price is entered.\n",
    "\n",
    "3. Modify the `get_customer_orders` function to include error handling.\n",
    "   - If the user enters an invalid number of orders (e.g., a negative value or a non-numeric value), display an error message and ask them to re-enter the number of orders.\n",
    "   - If the user enters an invalid product name (e.g., a product name that is not in the inventory), or that doesn't have stock available, display an error message and ask them to re-enter the product name. *Hint: you will need to pass inventory as a parameter*\n",
    "   - Use a try-except block to handle the error and continue prompting the user until a valid product name is entered.\n",
    "\n",
    "4. Test your code by running the program and deliberately entering invalid quantities and product names. Make sure the error handling mechanism works as expected.\n"
   ]
  },
  {
   "cell_type": "code",
   "execution_count": 22,
   "id": "abe0e39b-8d04-4c67-8a80-169201b150a6",
   "metadata": {},
   "outputs": [],
   "source": [
    "products = [\"t-shirt\", \"mug\", \"hat\", \"book\", \"keychain\"]\n",
    "inventory = {} #dictionary"
   ]
  },
  {
   "cell_type": "code",
   "execution_count": 28,
   "id": "e3f292d5-418c-4545-9dfb-b917d989dd8f",
   "metadata": {},
   "outputs": [
    {
     "name": "stdin",
     "output_type": "stream",
     "text": [
      "Enter the quantity of t-shirts available:  5\n",
      "Enter the quantity of mugs available:  t\n"
     ]
    },
    {
     "name": "stdout",
     "output_type": "stream",
     "text": [
      "Error: invalid literal for int() with base 10: 't'\n"
     ]
    },
    {
     "name": "stdin",
     "output_type": "stream",
     "text": [
      "Enter the quantity of mugs available:  -5\n"
     ]
    },
    {
     "name": "stdout",
     "output_type": "stream",
     "text": [
      "Error: Invalid quantity! Please enter a non-negative value.\n"
     ]
    },
    {
     "name": "stdin",
     "output_type": "stream",
     "text": [
      "Enter the quantity of mugs available:  6\n",
      "Enter the quantity of hats available:  5\n",
      "Enter the quantity of books available:  4\n",
      "Enter the quantity of keychains available:  3\n"
     ]
    }
   ],
   "source": [
    "def initialize_inventory(products):\n",
    "    inventory = {}\n",
    "    for product in products:\n",
    "        valid_quantity = False\n",
    "        while not valid_quantity:\n",
    "            try:\n",
    "                quantity = int(input(f\"Enter the quantity of {product}s available: \"))\n",
    "                if quantity < 0:\n",
    "                    raise ValueError(\"Invalid quantity! Please enter a non-negative value.\")\n",
    "                valid_quantity = True\n",
    "            except ValueError as error:\n",
    "                print(f\"Error: {error}\")\n",
    "        inventory[product] = quantity\n",
    "    return inventory\n",
    "        \n",
    "inventory = initialize_inventory(products)"
   ]
  },
  {
   "cell_type": "code",
   "execution_count": 29,
   "id": "2051fc7f-75fa-4e08-8cac-8bb19d2d3e70",
   "metadata": {},
   "outputs": [
    {
     "data": {
      "text/plain": [
       "{'t-shirt': 5, 'mug': 6, 'hat': 5, 'book': 4, 'keychain': 3}"
      ]
     },
     "execution_count": 29,
     "metadata": {},
     "output_type": "execute_result"
    }
   ],
   "source": [
    "inventory"
   ]
  },
  {
   "cell_type": "code",
   "execution_count": 65,
   "id": "78d31733-1ceb-4ef3-b0d4-563f6b039fea",
   "metadata": {},
   "outputs": [
    {
     "name": "stdin",
     "output_type": "stream",
     "text": [
      "How many products do you want to buy?  r\n"
     ]
    },
    {
     "name": "stdout",
     "output_type": "stream",
     "text": [
      "Error: invalid literal for int() with base 10: 'r'\n"
     ]
    },
    {
     "name": "stdin",
     "output_type": "stream",
     "text": [
      "How many products do you want to buy?  -4\n"
     ]
    },
    {
     "name": "stdout",
     "output_type": "stream",
     "text": [
      "Error: Invalid answer! Please enter a non-negative value.\n"
     ]
    },
    {
     "name": "stdin",
     "output_type": "stream",
     "text": [
      "How many products do you want to buy?  3\n",
      "Please enter a product that you would like to buy (you can enter each product only once):  hat\n",
      "Please enter a product that you would like to buy (you can enter each product only once):  chair\n"
     ]
    },
    {
     "name": "stdout",
     "output_type": "stream",
     "text": [
      "chair is not available. Please enter a valid product: \n"
     ]
    },
    {
     "name": "stdin",
     "output_type": "stream",
     "text": [
      "Please enter a product that you would like to buy (you can enter each product only once):  123\n"
     ]
    },
    {
     "name": "stdout",
     "output_type": "stream",
     "text": [
      "123 is not available. Please enter a valid product: \n"
     ]
    },
    {
     "name": "stdin",
     "output_type": "stream",
     "text": [
      "Please enter a product that you would like to buy (you can enter each product only once):  book\n"
     ]
    },
    {
     "name": "stdout",
     "output_type": "stream",
     "text": [
      "Sorry! The book is out of stock. Please enter a valid product: \n"
     ]
    },
    {
     "name": "stdin",
     "output_type": "stream",
     "text": [
      "Please enter a product that you would like to buy (you can enter each product only once):  mug\n",
      "Please enter a product that you would like to buy (you can enter each product only once):  keychain\n"
     ]
    },
    {
     "data": {
      "text/plain": [
       "{'hat', 'keychain', 'mug'}"
      ]
     },
     "execution_count": 65,
     "metadata": {},
     "output_type": "execute_result"
    }
   ],
   "source": [
    "#3 Modify the get_customer_orders function to include error handling\n",
    "def get_customer_orders():\n",
    "    customer_orders = set()\n",
    "    valid_products = []\n",
    "\n",
    "    valid_range = False\n",
    "    while not valid_range:\n",
    "        try:\n",
    "            range_products = int(input(\"How many products do you want to buy? \"))\n",
    "            if range_products < 1:\n",
    "                raise ValueError(\"Invalid answer! Please enter a non-negative value.\")\n",
    "            else:\n",
    "                valid_range = True\n",
    "        except ValueError as error:\n",
    "            print(f\"Error: {error}\")\n",
    "\n",
    "    for products_ in range(range_products):\n",
    "        products_added = False\n",
    "        while not products_added: \n",
    "            try:\n",
    "                products_ = input(\"Please enter a product that you would like to buy (you can enter each product only once): \")\n",
    "                if products_ not in products:\n",
    "                     print(f\"{products_} is not available. Please enter a valid product: \")\n",
    "                else:\n",
    "                    if inventory[products_] <=0:\n",
    "                        print(f\"Sorry! The {products_} is out of stock. Please enter a valid product: \")\n",
    "                    else:\n",
    "                        valid_products.append(products_)\n",
    "                        products_added = True\n",
    "  \n",
    "            except Exception as something:\n",
    "                print(type(something))\n",
    "                print(\"Something didn't work! Please try again.\")\n",
    "    \n",
    "    customer_orders = set(valid_products)\n",
    "    return customer_orders\n",
    "customer_orders = get_customer_orders()\n",
    "customer_orders"
   ]
  },
  {
   "cell_type": "code",
   "execution_count": 58,
   "id": "858047e3-01b2-4450-870e-c917dd11457d",
   "metadata": {},
   "outputs": [
    {
     "name": "stdin",
     "output_type": "stream",
     "text": [
      "Enter the price of t-shirt:  5\n",
      "Enter the price of mug:  6\n",
      "Enter the price of hat:  -7\n"
     ]
    },
    {
     "name": "stdout",
     "output_type": "stream",
     "text": [
      "Error: Invalid price! Please enter a non-negative value.\n"
     ]
    },
    {
     "name": "stdin",
     "output_type": "stream",
     "text": [
      "Enter the price of hat:  4\n",
      "Enter the price of book:  3\n",
      "Enter the price of keychain:  4\n"
     ]
    },
    {
     "data": {
      "text/plain": [
       "{'t-shirt': 5, 'mug': 6, 'hat': 4, 'book': 3, 'keychain': 4}"
      ]
     },
     "execution_count": 58,
     "metadata": {},
     "output_type": "execute_result"
    }
   ],
   "source": [
    "#2 Modify the calculate_total_price function to include error handling\n",
    "\n",
    "def inventory_price(products):\n",
    "    inventory_price_dict = {}\n",
    "    for product in products:\n",
    "        while True:\n",
    "            try:\n",
    "                price = int(input(f\"Enter the price of {product}: \"))\n",
    "                if price < 0:\n",
    "                    raise ValueError(\"Invalid price! Please enter a non-negative value.\")\n",
    "                else:\n",
    "                    inventory_price_dict[product] = price\n",
    "                    break\n",
    "            except ValueError as error:\n",
    "                print(f\"Error: {error}\")\n",
    "        \n",
    "    return inventory_price_dict\n",
    "\n",
    "inventory_price_dict = inventory_price(products)\n",
    "inventory_price_dict\n",
    "\n"
   ]
  },
  {
   "cell_type": "code",
   "execution_count": 59,
   "id": "ecb83f8e-238c-4663-8fc2-b2bf94bcffc0",
   "metadata": {},
   "outputs": [],
   "source": [
    "def total_price(customer_orders, inventory_price_dict):\n",
    "    total = 0\n",
    "    for item in customer_orders:\n",
    "        total += 1 * inventory_price_dict[item]  # Use 1 as the quantity\n",
    "    return total\n",
    "total_price_order = total_price(customer_orders, inventory_price_dict)"
   ]
  },
  {
   "cell_type": "code",
   "execution_count": 64,
   "id": "126e01d2-892f-4d08-ada4-aae2bda067a4",
   "metadata": {},
   "outputs": [
    {
     "name": "stdin",
     "output_type": "stream",
     "text": [
      "Enter the quantity of t-shirts available:  5\n",
      "Enter the quantity of mugs available:  3\n",
      "Enter the quantity of hats available:  4\n",
      "Enter the quantity of books available:  \n"
     ]
    },
    {
     "name": "stdout",
     "output_type": "stream",
     "text": [
      "Error: invalid literal for int() with base 10: ''\n"
     ]
    },
    {
     "name": "stdin",
     "output_type": "stream",
     "text": [
      "Enter the quantity of books available:  0\n",
      "Enter the quantity of keychains available:  2\n",
      "How many products do you want to buy?  3\n",
      "Please enter a product that you would like to buy (you can enter each product only once):  hat\n",
      "Please enter a product that you would like to buy (you can enter each product only once):  mug\n",
      "Please enter a product that you would like to buy (you can enter each product only once):  t-shirt\n",
      "Enter the price of t-shirt:  4\n",
      "Enter the price of mug:  -4\n"
     ]
    },
    {
     "name": "stdout",
     "output_type": "stream",
     "text": [
      "Error: Invalid price! Please enter a non-negative value.\n"
     ]
    },
    {
     "name": "stdin",
     "output_type": "stream",
     "text": [
      "Enter the price of mug:  r\n"
     ]
    },
    {
     "name": "stdout",
     "output_type": "stream",
     "text": [
      "Error: invalid literal for int() with base 10: 'r'\n"
     ]
    },
    {
     "name": "stdin",
     "output_type": "stream",
     "text": [
      "Enter the price of mug:  3\n",
      "Enter the price of hat:  2\n",
      "Enter the price of book:  5\n",
      "Enter the price of keychain:  1\n"
     ]
    }
   ],
   "source": [
    "# Final test\n",
    "\n",
    "inventory = initialize_inventory(products)\n",
    "customer_orders = get_customer_orders()\n",
    "inventory_price_dict = inventory_price(products)\n",
    "total_price_order = total_price(customer_orders, inventory_price_dict)"
   ]
  },
  {
   "cell_type": "code",
   "execution_count": 62,
   "id": "f1f35bba-7109-4cb6-a042-a74c9326711b",
   "metadata": {},
   "outputs": [
    {
     "data": {
      "text/plain": [
       "15"
      ]
     },
     "execution_count": 62,
     "metadata": {},
     "output_type": "execute_result"
    }
   ],
   "source": [
    "total_price_order"
   ]
  },
  {
   "cell_type": "code",
   "execution_count": null,
   "id": "f8690efa-32f8-4e83-bc51-df2d722dbcda",
   "metadata": {},
   "outputs": [],
   "source": []
  }
 ],
 "metadata": {
  "kernelspec": {
   "display_name": "Python 3 (ipykernel)",
   "language": "python",
   "name": "python3"
  },
  "language_info": {
   "codemirror_mode": {
    "name": "ipython",
    "version": 3
   },
   "file_extension": ".py",
   "mimetype": "text/x-python",
   "name": "python",
   "nbconvert_exporter": "python",
   "pygments_lexer": "ipython3",
   "version": "3.11.7"
  }
 },
 "nbformat": 4,
 "nbformat_minor": 5
}
